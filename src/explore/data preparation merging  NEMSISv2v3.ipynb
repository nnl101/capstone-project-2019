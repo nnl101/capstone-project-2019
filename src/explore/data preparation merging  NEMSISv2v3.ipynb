{
 "cells": [
  {
   "cell_type": "code",
   "execution_count": 1,
   "metadata": {},
   "outputs": [],
   "source": [
    "import sys\n",
    "import time\n",
    "#!{sys.executable} -m pip install inquirer \n",
    "from selenium import webdriver\n",
    "from selenium.webdriver.common.by import By\n",
    "from selenium.webdriver.support.ui import WebDriverWait\n",
    "from selenium.webdriver.support import expected_conditions as EC\n",
    "from itertools import product \n",
    "import pandas as pd\n",
    "import os\n",
    "from selenium.webdriver.common.action_chains import ActionChains\n",
    "from datetime import datetime\n",
    "import numpy as np\n",
    "import itertools\n",
    "import pathlib\n",
    "import cv\n",
    "import random\n",
    "import re\n",
    "import matplotlib.pyplot as plt\n",
    "\n",
    "%matplotlib inline\n"
   ]
  },
  {
   "cell_type": "markdown",
   "metadata": {},
   "source": [
    "## Notes\n",
    "\n",
    "1 - AGE: Age Groups are different in v2 and v3, I made an affort to pair similar groups with the understanding that they are not identical\n",
    "\n",
    "2 - RACE: Hispanic or Latinos Patient attribute is in a separate attribute in v2 (Patient Ethnicity) and is included  in Patient Race in v3, therefore I created a new column cRace to include Hispanics in attribute discribing Age\n",
    "In WONDER 'Asian'+ 'Native Hawaiian or Other Pacific Islander' = 'Asian or Pacific Islander' . Need to combine to be able to merge\n",
    "\n",
    "Duplication in v3 observed when broken by race\n",
    "Expected 385,231 and got 387,326\n",
    "\n",
    "\n",
    "3 - GENDER: For both v2 and v3 all values different from Female or Male are set to Unknown in column cGender\n",
    "\n",
    "4- CENSUS REGION: Island Areas in v2 seems to be renamed to Territories in  v3. I created column cRegion in v2 that replaces value Island Areas with Territories. v3 also Not reported values that might need to be dropped\n",
    "\n",
    "5- CENSUS DIVISION: Territories is missing from v3. We might have to drop those values\n",
    "\n",
    "6- MEDICATION: More Naxolone versions observed in v3 than v4. Medication can be dropped\n"
   ]
  },
  {
   "cell_type": "code",
   "execution_count": 2,
   "metadata": {
    "scrolled": true
   },
   "outputs": [],
   "source": [
    "###Census Region correction \n",
    "def combine(v2,v3):\n",
    "    v2.columns=[c.split('.')[-1] for c in v2.columns]\n",
    "    v3.columns=[c.split('.')[-1] for c in v3.columns]\n",
    "    v2['Month']= pd.to_datetime(v2['Year - Quarter -  Month - Day'])\n",
    "    v3['Month']=pd.to_datetime(v3[['Year - Quarter - Month - Day','Month of Year']].apply(lambda x: str(x[0])+'-'+str(x[1]), axis=1))\n",
    "    if v2['Count of Events'].dtypes=='object':\n",
    "        v2['Count of Events']=v2['Count of Events'].apply(lambda x: int(x.replace(',','')))\n",
    "    if v3['Count of Events'].dtypes=='object':\n",
    "        v3['Count of Events']=v3['Count of Events'].apply(lambda x: int(x.replace(',','')))    \n",
    "    v2['Region']= v2.apply(lambda x: 'Territories' if x['Census Region']=='Island Areas' \n",
    "             else x['Census Region'], axis=1)\n",
    "    v2_region=v2['Region'].unique()\n",
    "    v3['Region'] = v3['US Census Regions']\n",
    "    v2_region.sort()\n",
    "    v3_region=v3['Region'].unique()\n",
    "    v3_region.sort()\n",
    "    v2_month_region = v2.groupby(['Month','Region'])['Count of Events'].sum().reset_index(name='Count of Events')\n",
    "    v3_month_region = v3.groupby(['Month','Region'])['Count of Events'].sum().reset_index(name='Count of Events')\n",
    "    v2_month = v2.groupby(['Month'])['Count of Events'].sum().reset_index(name='Count of Events')\n",
    "    v3_month = v3.groupby(['Month'])['Count of Events'].sum().reset_index(name='Count of Events')\n",
    "\n",
    "    nemsis_monthly_reg=pd.concat([v2_month_region,v3_month_region],ignore_index=True)\n",
    "    nemsis_monthly=pd.concat([v2_month,v3_month],ignore_index=True)\n",
    "    return nemsis_monthly_reg, nemsis_monthly\n"
   ]
  },
  {
   "cell_type": "code",
   "execution_count": 4,
   "metadata": {},
   "outputs": [],
   "source": [
    "v2_data = 'newdata/v2_monthly_by_region_Naxolone.csv'\n",
    "v3_data = 'newdata/v3_monthly_by_region_Naxolone.csv'\n",
    "v3=pd.read_csv(v3_data)\n",
    "v2=pd.read_csv(v2_data)\n",
    "nemsis_monthly_reg_medication, nemsis_monthly_medication = combine(v2,v3)\n",
    "\n",
    "v2_data = 'newdata/v2_monthly_by_region_977_90.csv'\n",
    "v3_data = 'newdata/v3_monthly_by_region_F11T40.csv'\n",
    "v3=pd.read_csv(v3_data)\n",
    "v2=pd.read_csv(v2_data)\n",
    "nemsis_monthly_reg_icd, nemsis_monthly_icd = combine(v2,v3)\n",
    "\n",
    "nemsis_monthly_reg_medication.to_csv(\"nemsis_v2v3_monthly_reg_medication.csv\", index=False)\n",
    "nemsis_monthly_medication.to_csv(\"nemsis_v2v3_monthly_medication.csv\", index=False)\n",
    "nemsis_monthly_reg_icd.to_csv(\"nemsis_v2v3_monthly_reg_icd.csv\", index=False)\n",
    "nemsis_monthly_icd.to_csv(\"nemsis_v2v3_monthly_icd.csv\", index=False)\n",
    "print(nemsis_monthly_reg_medication['Count of Events'].sum(), nemsis_monthly_medication['Count of Events'].sum())\n",
    "print(nemsis_monthly_reg_icd['Count of Events'].sum(), nemsis_monthly_icd['Count of Events'].sum())"
   ]
  },
  {
   "cell_type": "code",
   "execution_count": 7,
   "metadata": {},
   "outputs": [],
   "source": []
  },
  {
   "cell_type": "code",
   "execution_count": 5,
   "metadata": {},
   "outputs": [
    {
     "name": "stdout",
     "output_type": "stream",
     "text": [
      "Total Events with Naloxone:  882980\n",
      "Total v2: 495667 \n",
      "Total v3: 387313 \n"
     ]
    }
   ],
   "source": [
    "v2_data ='extracted_data/v2_race_ethnicity_Naxolone_Narcan.csv'\n",
    "v3_data ='extracted_data/v3_race_Naxolone_Narcan.csv'\n",
    "v2=pd.read_csv(v2_data)\n",
    "v3=pd.read_csv(v3_data)\n",
    "v2.fillna(0)\n",
    "v3.fillna(0)\n",
    "if v2['Count of Events'].dtypes=='object':\n",
    "    v2['Count of Events'] = v2['Count of Events'].apply(lambda x: int(x.replace(',','')))\n",
    "if v3['Count of Events'].dtypes=='object':\n",
    "    v3['Count of Events'] = v3['Count of Events'].apply(lambda x: int(x.replace(',','')))\n",
    "total_v2 = v2['Count of Events'].sum()\n",
    "total_v3 = v3['Count of Events'].sum()\n",
    "print('Total Events with Naloxone: ', total_v2+total_v3)    \n",
    "print('Total v2: {0} \\nTotal v3: {1} '.format(total_v2,total_v3))   \n",
    "# ###Race correction \n",
    "v2['Race']= v2.apply(lambda x: 'Hispanic or Latino' if x['Patient Ethnicity']=='Hispanic or Latino' \n",
    "         else x['Patient Race'], axis=1)\n",
    "v2.loc[v2['Race'].isin(['Not Applicable','Not Available','Not Known','Not Recorded'\n",
    "                              ,'Not Reporting','Other Race']),'Race']='Unknown'\n",
    "v3['Race']= v3[\"Race\"].apply(lambda x: 'Unknown' if x in ['Not Applicable','Not Available','Not Known'\n",
    "                                 ,'Not Recorded','Not Reporting','Other Race'] else x)\n",
    "\n",
    "events_before_agg=v2['Count of Events'].sum()\n",
    "v2_month_race=v2.groupby(['Month','Race']).apply(lambda x: x['Count of Events'].sum()).reset_index(name='Count of Events')\n",
    "events_after_agg=v2_month_race['Count of Events'].sum()\n",
    "assert events_before_agg==events_after_agg\n",
    "\n",
    "events_before_agg=v3['Count of Events'].sum()\n",
    "v3_month_race=v3.groupby(['Month','Race']).apply(lambda x: x['Count of Events'].sum()).reset_index(name='Count of Events')\n",
    "events_after_agg=v3_month_race['Count of Events'].sum()\n",
    "assert events_before_agg==events_after_agg\n",
    "\n",
    "v2_race=v2.Race.unique()\n",
    "v3_race=v3.Race.unique()\n",
    "v3_race.sort(),v2_race.sort()\n",
    "assert list(v2_race)==list(v3_race)\n",
    "v3.groupby('Month')['Count of Events'].sum()\n",
    "nemsis_month_race=pd.concat([v2_month_race,v3_month_race])\n",
    "\n",
    "nemsis_month_race=nemsis_month_race.pivot(index='Month', columns='Race' , values='Count of Events')\n",
    "nemsis_month_race.fillna(0,inplace=True)\n",
    "nemsis_month_race=nemsis_month_race.astype('int64')\n",
    "nemsis_month_race.to_csv(\"nemsis_v2v3_month_race.csv\")\n"
   ]
  }
 ],
 "metadata": {
  "kernelspec": {
   "display_name": "Python 3",
   "language": "python",
   "name": "python3"
  },
  "language_info": {
   "codemirror_mode": {
    "name": "ipython",
    "version": 3
   },
   "file_extension": ".py",
   "mimetype": "text/x-python",
   "name": "python",
   "nbconvert_exporter": "python",
   "pygments_lexer": "ipython3",
   "version": "3.7.5"
  }
 },
 "nbformat": 4,
 "nbformat_minor": 2
}
