{
  "nbformat": 4,
  "nbformat_minor": 0,
  "metadata": {
    "colab": {
      "name": "Nemsis/CDC data cleaning for modeling",
      "provenance": [],
      "toc_visible": true
    },
    "kernelspec": {
      "name": "python3",
      "display_name": "Python 3"
    }
  },
  "cells": [
    {
      "cell_type": "markdown",
      "metadata": {
        "id": "hZ70u-ZlAvMr",
        "colab_type": "text"
      },
      "source": [
        "This notebook does a few things:\n",
        "- Combine NEMSIS v2 and v2 data\n",
        "- Combine standard and provisional CDC data\n",
        "- Calculate the fraction of NEMSIS events (per region/month) that were opioid-related (as determined by medications given or ICD codes).\n",
        "- Standardize date formats, region names, etc.\n",
        "- Write the results to CSVs."
      ]
    },
    {
      "cell_type": "markdown",
      "metadata": {
        "id": "8WqG9tTZHpgZ",
        "colab_type": "text"
      },
      "source": [
        "# Setup"
      ]
    },
    {
      "cell_type": "code",
      "metadata": {
        "id": "vjPjvH8OrhqI",
        "colab_type": "code",
        "colab": {}
      },
      "source": [
        "import pandas as pd\n",
        "import numpy as np\n",
        "import matplotlib.pyplot as plt\n",
        "from scipy import signal\n",
        "from sklearn.linear_model import LinearRegression\n",
        "from sklearn.model_selection import train_test_split\n",
        "from sklearn.metrics import mean_squared_error, r2_score"
      ],
      "execution_count": 0,
      "outputs": []
    },
    {
      "cell_type": "code",
      "metadata": {
        "id": "hRK6sABobdFm",
        "colab_type": "code",
        "outputId": "579c9932-9a01-4768-c256-41a40e7b8193",
        "colab": {
          "base_uri": "https://localhost:8080/",
          "height": 125
        }
      },
      "source": [
        "from google.colab import drive\n",
        "drive.mount('/content/gdrive', force_remount=True)"
      ],
      "execution_count": 2,
      "outputs": [
        {
          "output_type": "stream",
          "text": [
            "Go to this URL in a browser: https://accounts.google.com/o/oauth2/auth?client_id=947318989803-6bn6qk8qdgf4n4g3pfee6491hc0brc4i.apps.googleusercontent.com&redirect_uri=urn%3aietf%3awg%3aoauth%3a2.0%3aoob&response_type=code&scope=email%20https%3a%2f%2fwww.googleapis.com%2fauth%2fdocs.test%20https%3a%2f%2fwww.googleapis.com%2fauth%2fdrive%20https%3a%2f%2fwww.googleapis.com%2fauth%2fdrive.photos.readonly%20https%3a%2f%2fwww.googleapis.com%2fauth%2fpeopleapi.readonly\n",
            "\n",
            "Enter your authorization code:\n",
            "··········\n",
            "Mounted at /content/gdrive\n"
          ],
          "name": "stdout"
        }
      ]
    },
    {
      "cell_type": "markdown",
      "metadata": {
        "id": "spE6N22RHuxz",
        "colab_type": "text"
      },
      "source": [
        "# Data cleaning: Nemsis data\n",
        "Main goal here is to take counts of Naloxone events or events with opioid-overdose related ICDs, and total NEMSIS event counts (all broken down by region and month) and calculate the fraction of opioid-related events for each region/month."
      ]
    },
    {
      "cell_type": "code",
      "metadata": {
        "id": "HVp63r1XOp_L",
        "colab_type": "code",
        "colab": {}
      },
      "source": [
        "nemsis_v2_nat_totals_df = pd.read_csv('gdrive/My Drive/nemsis_v2_national_monthly_totals_edited.csv', thousands=',')\n",
        "nemsis_v2_reg_totals_df = pd.read_csv('gdrive/My Drive/nemsis_v2_regional_monthly_totals_edited.csv', thousands=',')\n",
        "nemsis_v3_nat_totals_df = pd.read_csv('gdrive/My Drive/nemsis_v3_national_monthly_totals_edited.csv', thousands=',')\n",
        "nemsis_v3_reg_totals_df = pd.read_csv('gdrive/My Drive/nemsis_v3_regional_monthly_totals_edited.csv', thousands=',')"
      ],
      "execution_count": 0,
      "outputs": []
    },
    {
      "cell_type": "code",
      "metadata": {
        "id": "z1eHckN--9lP",
        "colab_type": "code",
        "colab": {
          "base_uri": "https://localhost:8080/",
          "height": 197
        },
        "outputId": "699a57bf-6f09-40f1-82a9-48290d2926f8"
      },
      "source": [
        "nemsis_v2_nat_totals_df.head()"
      ],
      "execution_count": 22,
      "outputs": [
        {
          "output_type": "execute_result",
          "data": {
            "text/html": [
              "<div>\n",
              "<style scoped>\n",
              "    .dataframe tbody tr th:only-of-type {\n",
              "        vertical-align: middle;\n",
              "    }\n",
              "\n",
              "    .dataframe tbody tr th {\n",
              "        vertical-align: top;\n",
              "    }\n",
              "\n",
              "    .dataframe thead th {\n",
              "        text-align: right;\n",
              "    }\n",
              "</style>\n",
              "<table border=\"1\" class=\"dataframe\">\n",
              "  <thead>\n",
              "    <tr style=\"text-align: right;\">\n",
              "      <th></th>\n",
              "      <th>Month</th>\n",
              "      <th>Count of Events</th>\n",
              "    </tr>\n",
              "  </thead>\n",
              "  <tbody>\n",
              "    <tr>\n",
              "      <th>0</th>\n",
              "      <td>1/1/2014</td>\n",
              "      <td>2243815</td>\n",
              "    </tr>\n",
              "    <tr>\n",
              "      <th>1</th>\n",
              "      <td>2/1/2014</td>\n",
              "      <td>1987887</td>\n",
              "    </tr>\n",
              "    <tr>\n",
              "      <th>2</th>\n",
              "      <td>3/1/2014</td>\n",
              "      <td>2015797</td>\n",
              "    </tr>\n",
              "    <tr>\n",
              "      <th>3</th>\n",
              "      <td>4/1/2014</td>\n",
              "      <td>2020800</td>\n",
              "    </tr>\n",
              "    <tr>\n",
              "      <th>4</th>\n",
              "      <td>5/1/2014</td>\n",
              "      <td>2313754</td>\n",
              "    </tr>\n",
              "  </tbody>\n",
              "</table>\n",
              "</div>"
            ],
            "text/plain": [
              "      Month  Count of Events\n",
              "0  1/1/2014          2243815\n",
              "1  2/1/2014          1987887\n",
              "2  3/1/2014          2015797\n",
              "3  4/1/2014          2020800\n",
              "4  5/1/2014          2313754"
            ]
          },
          "metadata": {
            "tags": []
          },
          "execution_count": 22
        }
      ]
    },
    {
      "cell_type": "code",
      "metadata": {
        "id": "ZyI3ehki-_7g",
        "colab_type": "code",
        "colab": {
          "base_uri": "https://localhost:8080/",
          "height": 406
        },
        "outputId": "db22817e-59ba-44fa-ad16-8e935bb3dfc8"
      },
      "source": [
        "nemsis_v2_reg_totals_df"
      ],
      "execution_count": 23,
      "outputs": [
        {
          "output_type": "execute_result",
          "data": {
            "text/html": [
              "<div>\n",
              "<style scoped>\n",
              "    .dataframe tbody tr th:only-of-type {\n",
              "        vertical-align: middle;\n",
              "    }\n",
              "\n",
              "    .dataframe tbody tr th {\n",
              "        vertical-align: top;\n",
              "    }\n",
              "\n",
              "    .dataframe thead th {\n",
              "        text-align: right;\n",
              "    }\n",
              "</style>\n",
              "<table border=\"1\" class=\"dataframe\">\n",
              "  <thead>\n",
              "    <tr style=\"text-align: right;\">\n",
              "      <th></th>\n",
              "      <th>Month</th>\n",
              "      <th>Census Region</th>\n",
              "      <th>Count of Events</th>\n",
              "    </tr>\n",
              "  </thead>\n",
              "  <tbody>\n",
              "    <tr>\n",
              "      <th>0</th>\n",
              "      <td>1/1/2014</td>\n",
              "      <td>Island Areas</td>\n",
              "      <td>1907</td>\n",
              "    </tr>\n",
              "    <tr>\n",
              "      <th>1</th>\n",
              "      <td>1/1/2014</td>\n",
              "      <td>Midwest</td>\n",
              "      <td>401987</td>\n",
              "    </tr>\n",
              "    <tr>\n",
              "      <th>2</th>\n",
              "      <td>1/1/2014</td>\n",
              "      <td>Northeast</td>\n",
              "      <td>506985</td>\n",
              "    </tr>\n",
              "    <tr>\n",
              "      <th>3</th>\n",
              "      <td>1/1/2014</td>\n",
              "      <td>South</td>\n",
              "      <td>1052501</td>\n",
              "    </tr>\n",
              "    <tr>\n",
              "      <th>4</th>\n",
              "      <td>1/1/2014</td>\n",
              "      <td>West</td>\n",
              "      <td>280435</td>\n",
              "    </tr>\n",
              "    <tr>\n",
              "      <th>...</th>\n",
              "      <td>...</td>\n",
              "      <td>...</td>\n",
              "      <td>...</td>\n",
              "    </tr>\n",
              "    <tr>\n",
              "      <th>175</th>\n",
              "      <td>12/1/2016</td>\n",
              "      <td>Island Areas</td>\n",
              "      <td>2089</td>\n",
              "    </tr>\n",
              "    <tr>\n",
              "      <th>176</th>\n",
              "      <td>12/1/2016</td>\n",
              "      <td>Midwest</td>\n",
              "      <td>339919</td>\n",
              "    </tr>\n",
              "    <tr>\n",
              "      <th>177</th>\n",
              "      <td>12/1/2016</td>\n",
              "      <td>Northeast</td>\n",
              "      <td>347437</td>\n",
              "    </tr>\n",
              "    <tr>\n",
              "      <th>178</th>\n",
              "      <td>12/1/2016</td>\n",
              "      <td>South</td>\n",
              "      <td>1009427</td>\n",
              "    </tr>\n",
              "    <tr>\n",
              "      <th>179</th>\n",
              "      <td>12/1/2016</td>\n",
              "      <td>West</td>\n",
              "      <td>249428</td>\n",
              "    </tr>\n",
              "  </tbody>\n",
              "</table>\n",
              "<p>180 rows × 3 columns</p>\n",
              "</div>"
            ],
            "text/plain": [
              "         Month Census Region  Count of Events\n",
              "0     1/1/2014  Island Areas             1907\n",
              "1     1/1/2014       Midwest           401987\n",
              "2     1/1/2014     Northeast           506985\n",
              "3     1/1/2014         South          1052501\n",
              "4     1/1/2014          West           280435\n",
              "..         ...           ...              ...\n",
              "175  12/1/2016  Island Areas             2089\n",
              "176  12/1/2016       Midwest           339919\n",
              "177  12/1/2016     Northeast           347437\n",
              "178  12/1/2016         South          1009427\n",
              "179  12/1/2016          West           249428\n",
              "\n",
              "[180 rows x 3 columns]"
            ]
          },
          "metadata": {
            "tags": []
          },
          "execution_count": 23
        }
      ]
    },
    {
      "cell_type": "code",
      "metadata": {
        "id": "2bxbYvpo_Cnf",
        "colab_type": "code",
        "colab": {
          "base_uri": "https://localhost:8080/",
          "height": 197
        },
        "outputId": "63e186b6-f1fc-4eb6-bdf7-7d3c1889c871"
      },
      "source": [
        "nemsis_v3_nat_totals_df.head()"
      ],
      "execution_count": 24,
      "outputs": [
        {
          "output_type": "execute_result",
          "data": {
            "text/html": [
              "<div>\n",
              "<style scoped>\n",
              "    .dataframe tbody tr th:only-of-type {\n",
              "        vertical-align: middle;\n",
              "    }\n",
              "\n",
              "    .dataframe tbody tr th {\n",
              "        vertical-align: top;\n",
              "    }\n",
              "\n",
              "    .dataframe thead th {\n",
              "        text-align: right;\n",
              "    }\n",
              "</style>\n",
              "<table border=\"1\" class=\"dataframe\">\n",
              "  <thead>\n",
              "    <tr style=\"text-align: right;\">\n",
              "      <th></th>\n",
              "      <th>Year</th>\n",
              "      <th>Month</th>\n",
              "      <th>Date</th>\n",
              "      <th>Count of Events</th>\n",
              "    </tr>\n",
              "  </thead>\n",
              "  <tbody>\n",
              "    <tr>\n",
              "      <th>0</th>\n",
              "      <td>2017</td>\n",
              "      <td>1</td>\n",
              "      <td>1/1/2017</td>\n",
              "      <td>726630</td>\n",
              "    </tr>\n",
              "    <tr>\n",
              "      <th>1</th>\n",
              "      <td>2017</td>\n",
              "      <td>10</td>\n",
              "      <td>10/1/2017</td>\n",
              "      <td>1067091</td>\n",
              "    </tr>\n",
              "    <tr>\n",
              "      <th>2</th>\n",
              "      <td>2017</td>\n",
              "      <td>11</td>\n",
              "      <td>11/1/2017</td>\n",
              "      <td>1070661</td>\n",
              "    </tr>\n",
              "    <tr>\n",
              "      <th>3</th>\n",
              "      <td>2017</td>\n",
              "      <td>12</td>\n",
              "      <td>12/1/2017</td>\n",
              "      <td>1266258</td>\n",
              "    </tr>\n",
              "    <tr>\n",
              "      <th>4</th>\n",
              "      <td>2017</td>\n",
              "      <td>2</td>\n",
              "      <td>2/1/2017</td>\n",
              "      <td>710724</td>\n",
              "    </tr>\n",
              "  </tbody>\n",
              "</table>\n",
              "</div>"
            ],
            "text/plain": [
              "   Year  Month       Date  Count of Events\n",
              "0  2017      1   1/1/2017           726630\n",
              "1  2017     10  10/1/2017          1067091\n",
              "2  2017     11  11/1/2017          1070661\n",
              "3  2017     12  12/1/2017          1266258\n",
              "4  2017      2   2/1/2017           710724"
            ]
          },
          "metadata": {
            "tags": []
          },
          "execution_count": 24
        }
      ]
    },
    {
      "cell_type": "code",
      "metadata": {
        "id": "z2FFyg6p_D4Z",
        "colab_type": "code",
        "colab": {
          "base_uri": "https://localhost:8080/",
          "height": 197
        },
        "outputId": "905f0090-ca0e-4392-98f8-f7107afbe1f4"
      },
      "source": [
        "nemsis_v3_reg_totals_df.head()"
      ],
      "execution_count": 25,
      "outputs": [
        {
          "output_type": "execute_result",
          "data": {
            "text/html": [
              "<div>\n",
              "<style scoped>\n",
              "    .dataframe tbody tr th:only-of-type {\n",
              "        vertical-align: middle;\n",
              "    }\n",
              "\n",
              "    .dataframe tbody tr th {\n",
              "        vertical-align: top;\n",
              "    }\n",
              "\n",
              "    .dataframe thead th {\n",
              "        text-align: right;\n",
              "    }\n",
              "</style>\n",
              "<table border=\"1\" class=\"dataframe\">\n",
              "  <thead>\n",
              "    <tr style=\"text-align: right;\">\n",
              "      <th></th>\n",
              "      <th>Year</th>\n",
              "      <th>Month</th>\n",
              "      <th>Date</th>\n",
              "      <th>Geographic Region of Incident.US Census Regions</th>\n",
              "      <th>Count of Events</th>\n",
              "    </tr>\n",
              "  </thead>\n",
              "  <tbody>\n",
              "    <tr>\n",
              "      <th>0</th>\n",
              "      <td>2017</td>\n",
              "      <td>1</td>\n",
              "      <td>1/1/2017</td>\n",
              "      <td>Midwest</td>\n",
              "      <td>115233</td>\n",
              "    </tr>\n",
              "    <tr>\n",
              "      <th>1</th>\n",
              "      <td>2017</td>\n",
              "      <td>1</td>\n",
              "      <td>1/1/2017</td>\n",
              "      <td>Northeast</td>\n",
              "      <td>68291</td>\n",
              "    </tr>\n",
              "    <tr>\n",
              "      <th>2</th>\n",
              "      <td>2017</td>\n",
              "      <td>1</td>\n",
              "      <td>1/1/2017</td>\n",
              "      <td>Not Recorded</td>\n",
              "      <td>19508</td>\n",
              "    </tr>\n",
              "    <tr>\n",
              "      <th>3</th>\n",
              "      <td>2017</td>\n",
              "      <td>1</td>\n",
              "      <td>1/1/2017</td>\n",
              "      <td>South</td>\n",
              "      <td>279087</td>\n",
              "    </tr>\n",
              "    <tr>\n",
              "      <th>4</th>\n",
              "      <td>2017</td>\n",
              "      <td>1</td>\n",
              "      <td>1/1/2017</td>\n",
              "      <td>Territories</td>\n",
              "      <td>649</td>\n",
              "    </tr>\n",
              "  </tbody>\n",
              "</table>\n",
              "</div>"
            ],
            "text/plain": [
              "   Year  Month  ... Geographic Region of Incident.US Census Regions Count of Events\n",
              "0  2017      1  ...                                         Midwest          115233\n",
              "1  2017      1  ...                                       Northeast           68291\n",
              "2  2017      1  ...                                    Not Recorded           19508\n",
              "3  2017      1  ...                                           South          279087\n",
              "4  2017      1  ...                                     Territories             649\n",
              "\n",
              "[5 rows x 5 columns]"
            ]
          },
          "metadata": {
            "tags": []
          },
          "execution_count": 25
        }
      ]
    },
    {
      "cell_type": "code",
      "metadata": {
        "id": "2iocBgUxTvIi",
        "colab_type": "code",
        "colab": {}
      },
      "source": [
        "nemsis_v3_nat_totals_df = nemsis_v3_nat_totals_df.drop(['Year', 'Month'], axis=1)\n",
        "nemsis_v3_reg_totals_df = nemsis_v3_reg_totals_df.drop(['Year', 'Month'], axis=1)"
      ],
      "execution_count": 0,
      "outputs": []
    },
    {
      "cell_type": "code",
      "metadata": {
        "id": "ktGM4NslUKG4",
        "colab_type": "code",
        "colab": {}
      },
      "source": [
        "nemsis_v3_nat_totals_df = nemsis_v3_nat_totals_df.rename(columns={\"Date\": \"Month\"})\n",
        "nemsis_v3_reg_totals_df = nemsis_v3_reg_totals_df.rename(columns={\"Date\": \"Month\", \"Geographic Region of Incident.US Census Regions\": \"Region\"})"
      ],
      "execution_count": 0,
      "outputs": []
    },
    {
      "cell_type": "code",
      "metadata": {
        "id": "RYy1DteNZmEi",
        "colab_type": "code",
        "colab": {}
      },
      "source": [
        "nemsis_v3_reg_totals_df = nemsis_v3_reg_totals_df.rename(columns={\"Census Region\": \"Region\"})"
      ],
      "execution_count": 0,
      "outputs": []
    },
    {
      "cell_type": "code",
      "metadata": {
        "id": "Jj9atF-UZUYz",
        "colab_type": "code",
        "colab": {}
      },
      "source": [
        "nemsis_v2_reg_totals_df = nemsis_v2_reg_totals_df.rename(columns={\"Census Region\": \"Region\"})"
      ],
      "execution_count": 0,
      "outputs": []
    },
    {
      "cell_type": "code",
      "metadata": {
        "id": "uZJBFJO6UXHt",
        "colab_type": "code",
        "colab": {}
      },
      "source": [
        "nemsis_nat_totals_df = nemsis_v2_nat_totals_df.append(nemsis_v3_nat_totals_df)\n",
        "nemsis_reg_totals_df = nemsis_v2_reg_totals_df.append(nemsis_v3_reg_totals_df)"
      ],
      "execution_count": 0,
      "outputs": []
    },
    {
      "cell_type": "code",
      "metadata": {
        "id": "wd4pe4n_VxUH",
        "colab_type": "code",
        "outputId": "d22e130d-003f-401c-a2cc-f175b0d9527d",
        "colab": {
          "base_uri": "https://localhost:8080/",
          "height": 197
        }
      },
      "source": [
        "nemsis_nat_totals_df.head()"
      ],
      "execution_count": 38,
      "outputs": [
        {
          "output_type": "execute_result",
          "data": {
            "text/html": [
              "<div>\n",
              "<style scoped>\n",
              "    .dataframe tbody tr th:only-of-type {\n",
              "        vertical-align: middle;\n",
              "    }\n",
              "\n",
              "    .dataframe tbody tr th {\n",
              "        vertical-align: top;\n",
              "    }\n",
              "\n",
              "    .dataframe thead th {\n",
              "        text-align: right;\n",
              "    }\n",
              "</style>\n",
              "<table border=\"1\" class=\"dataframe\">\n",
              "  <thead>\n",
              "    <tr style=\"text-align: right;\">\n",
              "      <th></th>\n",
              "      <th>Month</th>\n",
              "      <th>Total Events</th>\n",
              "    </tr>\n",
              "  </thead>\n",
              "  <tbody>\n",
              "    <tr>\n",
              "      <th>0</th>\n",
              "      <td>2014-01-01</td>\n",
              "      <td>2243815</td>\n",
              "    </tr>\n",
              "    <tr>\n",
              "      <th>1</th>\n",
              "      <td>2014-02-01</td>\n",
              "      <td>1987887</td>\n",
              "    </tr>\n",
              "    <tr>\n",
              "      <th>2</th>\n",
              "      <td>2014-03-01</td>\n",
              "      <td>2015797</td>\n",
              "    </tr>\n",
              "    <tr>\n",
              "      <th>3</th>\n",
              "      <td>2014-04-01</td>\n",
              "      <td>2020800</td>\n",
              "    </tr>\n",
              "    <tr>\n",
              "      <th>4</th>\n",
              "      <td>2014-05-01</td>\n",
              "      <td>2313754</td>\n",
              "    </tr>\n",
              "  </tbody>\n",
              "</table>\n",
              "</div>"
            ],
            "text/plain": [
              "       Month  Total Events\n",
              "0 2014-01-01       2243815\n",
              "1 2014-02-01       1987887\n",
              "2 2014-03-01       2015797\n",
              "3 2014-04-01       2020800\n",
              "4 2014-05-01       2313754"
            ]
          },
          "metadata": {
            "tags": []
          },
          "execution_count": 38
        }
      ]
    },
    {
      "cell_type": "code",
      "metadata": {
        "id": "cVYo-xnj_PiA",
        "colab_type": "code",
        "colab": {
          "base_uri": "https://localhost:8080/",
          "height": 197
        },
        "outputId": "03e6b2c5-5d93-44a0-9af2-4e80355f0485"
      },
      "source": [
        "nemsis_reg_totals_df.head()"
      ],
      "execution_count": 39,
      "outputs": [
        {
          "output_type": "execute_result",
          "data": {
            "text/html": [
              "<div>\n",
              "<style scoped>\n",
              "    .dataframe tbody tr th:only-of-type {\n",
              "        vertical-align: middle;\n",
              "    }\n",
              "\n",
              "    .dataframe tbody tr th {\n",
              "        vertical-align: top;\n",
              "    }\n",
              "\n",
              "    .dataframe thead th {\n",
              "        text-align: right;\n",
              "    }\n",
              "</style>\n",
              "<table border=\"1\" class=\"dataframe\">\n",
              "  <thead>\n",
              "    <tr style=\"text-align: right;\">\n",
              "      <th></th>\n",
              "      <th>Month</th>\n",
              "      <th>Region</th>\n",
              "      <th>Total Events</th>\n",
              "    </tr>\n",
              "  </thead>\n",
              "  <tbody>\n",
              "    <tr>\n",
              "      <th>0</th>\n",
              "      <td>2014-01-01</td>\n",
              "      <td>Island Areas</td>\n",
              "      <td>1907</td>\n",
              "    </tr>\n",
              "    <tr>\n",
              "      <th>1</th>\n",
              "      <td>2014-01-01</td>\n",
              "      <td>Midwest</td>\n",
              "      <td>401987</td>\n",
              "    </tr>\n",
              "    <tr>\n",
              "      <th>2</th>\n",
              "      <td>2014-01-01</td>\n",
              "      <td>Northeast</td>\n",
              "      <td>506985</td>\n",
              "    </tr>\n",
              "    <tr>\n",
              "      <th>3</th>\n",
              "      <td>2014-01-01</td>\n",
              "      <td>South</td>\n",
              "      <td>1052501</td>\n",
              "    </tr>\n",
              "    <tr>\n",
              "      <th>4</th>\n",
              "      <td>2014-01-01</td>\n",
              "      <td>West</td>\n",
              "      <td>280435</td>\n",
              "    </tr>\n",
              "  </tbody>\n",
              "</table>\n",
              "</div>"
            ],
            "text/plain": [
              "       Month        Region  Total Events\n",
              "0 2014-01-01  Island Areas          1907\n",
              "1 2014-01-01       Midwest        401987\n",
              "2 2014-01-01     Northeast        506985\n",
              "3 2014-01-01         South       1052501\n",
              "4 2014-01-01          West        280435"
            ]
          },
          "metadata": {
            "tags": []
          },
          "execution_count": 39
        }
      ]
    },
    {
      "cell_type": "code",
      "metadata": {
        "id": "K3d8C0AcV3lr",
        "colab_type": "code",
        "colab": {}
      },
      "source": [
        "nemsis_nat_totals_df[[\"Month\"]] = nemsis_nat_totals_df[[\"Month\"]].apply(pd.to_datetime)\n",
        "nemsis_reg_totals_df[[\"Month\"]] = nemsis_reg_totals_df[[\"Month\"]].apply(pd.to_datetime)"
      ],
      "execution_count": 0,
      "outputs": []
    },
    {
      "cell_type": "code",
      "metadata": {
        "id": "QNlo9TYLWAH_",
        "colab_type": "code",
        "colab": {}
      },
      "source": [
        "nemsis_nat_totals_df = nemsis_nat_totals_df.rename(columns={\"Count of Events\": \"Total Events\"})\n",
        "nemsis_reg_totals_df = nemsis_reg_totals_df.rename(columns={\"Count of Events\": \"Total Events\"})"
      ],
      "execution_count": 0,
      "outputs": []
    },
    {
      "cell_type": "code",
      "metadata": {
        "id": "LUcfU5JzU45r",
        "colab_type": "code",
        "colab": {}
      },
      "source": [
        "nemsis_nat_totals_df.to_csv('nemsis_v2v3_national_monthly_totals.csv')\n",
        "nemsis_reg_totals_df.to_csv('nemsis_v2v3_regional_monthly_totals.csv')"
      ],
      "execution_count": 0,
      "outputs": []
    },
    {
      "cell_type": "code",
      "metadata": {
        "id": "rfXlSyj0Ipjc",
        "colab_type": "code",
        "colab": {}
      },
      "source": [
        "nemsis_nat_med_df = pd.read_csv('gdrive/My Drive/nemsis_v2v3_monthly_medication.csv', thousands=',')\n",
        "nemsis_reg_med_df = pd.read_csv('gdrive/My Drive/nemsis_v2v3_monthly_reg_medication.csv', thousands=',')\n",
        "nemsis_nat_icd_df = pd.read_csv('gdrive/My Drive/nemsis_v2v3_monthly_icd.csv', thousands=',')\n",
        "nemsis_reg_icd_df = pd.read_csv('gdrive/My Drive/nemsis_v2v3_monthly_reg_icd.csv', thousands=',')"
      ],
      "execution_count": 0,
      "outputs": []
    },
    {
      "cell_type": "code",
      "metadata": {
        "id": "WYifu85P_fCi",
        "colab_type": "code",
        "colab": {
          "base_uri": "https://localhost:8080/",
          "height": 197
        },
        "outputId": "a64216b5-9830-48f4-cbdb-787fded62444"
      },
      "source": [
        "nemsis_nat_med_df.head()"
      ],
      "execution_count": 41,
      "outputs": [
        {
          "output_type": "execute_result",
          "data": {
            "text/html": [
              "<div>\n",
              "<style scoped>\n",
              "    .dataframe tbody tr th:only-of-type {\n",
              "        vertical-align: middle;\n",
              "    }\n",
              "\n",
              "    .dataframe tbody tr th {\n",
              "        vertical-align: top;\n",
              "    }\n",
              "\n",
              "    .dataframe thead th {\n",
              "        text-align: right;\n",
              "    }\n",
              "</style>\n",
              "<table border=\"1\" class=\"dataframe\">\n",
              "  <thead>\n",
              "    <tr style=\"text-align: right;\">\n",
              "      <th></th>\n",
              "      <th>Month</th>\n",
              "      <th>Count of Events</th>\n",
              "    </tr>\n",
              "  </thead>\n",
              "  <tbody>\n",
              "    <tr>\n",
              "      <th>0</th>\n",
              "      <td>2014-01-01</td>\n",
              "      <td>9940</td>\n",
              "    </tr>\n",
              "    <tr>\n",
              "      <th>1</th>\n",
              "      <td>2014-02-01</td>\n",
              "      <td>9196</td>\n",
              "    </tr>\n",
              "    <tr>\n",
              "      <th>2</th>\n",
              "      <td>2014-03-01</td>\n",
              "      <td>9870</td>\n",
              "    </tr>\n",
              "    <tr>\n",
              "      <th>3</th>\n",
              "      <td>2014-04-01</td>\n",
              "      <td>10060</td>\n",
              "    </tr>\n",
              "    <tr>\n",
              "      <th>4</th>\n",
              "      <td>2014-05-01</td>\n",
              "      <td>11590</td>\n",
              "    </tr>\n",
              "  </tbody>\n",
              "</table>\n",
              "</div>"
            ],
            "text/plain": [
              "        Month  Count of Events\n",
              "0  2014-01-01             9940\n",
              "1  2014-02-01             9196\n",
              "2  2014-03-01             9870\n",
              "3  2014-04-01            10060\n",
              "4  2014-05-01            11590"
            ]
          },
          "metadata": {
            "tags": []
          },
          "execution_count": 41
        }
      ]
    },
    {
      "cell_type": "code",
      "metadata": {
        "id": "87QkPWEU_ldg",
        "colab_type": "code",
        "colab": {
          "base_uri": "https://localhost:8080/",
          "height": 197
        },
        "outputId": "7dfa5023-d9fe-42b9-d680-ab0658064881"
      },
      "source": [
        "nemsis_reg_med_df.head()"
      ],
      "execution_count": 42,
      "outputs": [
        {
          "output_type": "execute_result",
          "data": {
            "text/html": [
              "<div>\n",
              "<style scoped>\n",
              "    .dataframe tbody tr th:only-of-type {\n",
              "        vertical-align: middle;\n",
              "    }\n",
              "\n",
              "    .dataframe tbody tr th {\n",
              "        vertical-align: top;\n",
              "    }\n",
              "\n",
              "    .dataframe thead th {\n",
              "        text-align: right;\n",
              "    }\n",
              "</style>\n",
              "<table border=\"1\" class=\"dataframe\">\n",
              "  <thead>\n",
              "    <tr style=\"text-align: right;\">\n",
              "      <th></th>\n",
              "      <th>Month</th>\n",
              "      <th>Region</th>\n",
              "      <th>Count of Events</th>\n",
              "    </tr>\n",
              "  </thead>\n",
              "  <tbody>\n",
              "    <tr>\n",
              "      <th>0</th>\n",
              "      <td>2014-01-01</td>\n",
              "      <td>Midwest</td>\n",
              "      <td>1982</td>\n",
              "    </tr>\n",
              "    <tr>\n",
              "      <th>1</th>\n",
              "      <td>2014-01-01</td>\n",
              "      <td>Northeast</td>\n",
              "      <td>1425</td>\n",
              "    </tr>\n",
              "    <tr>\n",
              "      <th>2</th>\n",
              "      <td>2014-01-01</td>\n",
              "      <td>South</td>\n",
              "      <td>4673</td>\n",
              "    </tr>\n",
              "    <tr>\n",
              "      <th>3</th>\n",
              "      <td>2014-01-01</td>\n",
              "      <td>Territories</td>\n",
              "      <td>1</td>\n",
              "    </tr>\n",
              "    <tr>\n",
              "      <th>4</th>\n",
              "      <td>2014-01-01</td>\n",
              "      <td>West</td>\n",
              "      <td>1859</td>\n",
              "    </tr>\n",
              "  </tbody>\n",
              "</table>\n",
              "</div>"
            ],
            "text/plain": [
              "        Month       Region  Count of Events\n",
              "0  2014-01-01      Midwest             1982\n",
              "1  2014-01-01    Northeast             1425\n",
              "2  2014-01-01        South             4673\n",
              "3  2014-01-01  Territories                1\n",
              "4  2014-01-01         West             1859"
            ]
          },
          "metadata": {
            "tags": []
          },
          "execution_count": 42
        }
      ]
    },
    {
      "cell_type": "code",
      "metadata": {
        "id": "LAjy7F0x_oKo",
        "colab_type": "code",
        "colab": {
          "base_uri": "https://localhost:8080/",
          "height": 197
        },
        "outputId": "40350f3a-911c-47ef-843a-3e6ccede70ed"
      },
      "source": [
        "nemsis_nat_icd_df.head()"
      ],
      "execution_count": 43,
      "outputs": [
        {
          "output_type": "execute_result",
          "data": {
            "text/html": [
              "<div>\n",
              "<style scoped>\n",
              "    .dataframe tbody tr th:only-of-type {\n",
              "        vertical-align: middle;\n",
              "    }\n",
              "\n",
              "    .dataframe tbody tr th {\n",
              "        vertical-align: top;\n",
              "    }\n",
              "\n",
              "    .dataframe thead th {\n",
              "        text-align: right;\n",
              "    }\n",
              "</style>\n",
              "<table border=\"1\" class=\"dataframe\">\n",
              "  <thead>\n",
              "    <tr style=\"text-align: right;\">\n",
              "      <th></th>\n",
              "      <th>Month</th>\n",
              "      <th>Count of Events</th>\n",
              "    </tr>\n",
              "  </thead>\n",
              "  <tbody>\n",
              "    <tr>\n",
              "      <th>0</th>\n",
              "      <td>2014-01-01</td>\n",
              "      <td>32802</td>\n",
              "    </tr>\n",
              "    <tr>\n",
              "      <th>1</th>\n",
              "      <td>2014-02-01</td>\n",
              "      <td>32020</td>\n",
              "    </tr>\n",
              "    <tr>\n",
              "      <th>2</th>\n",
              "      <td>2014-03-01</td>\n",
              "      <td>35085</td>\n",
              "    </tr>\n",
              "    <tr>\n",
              "      <th>3</th>\n",
              "      <td>2014-04-01</td>\n",
              "      <td>34500</td>\n",
              "    </tr>\n",
              "    <tr>\n",
              "      <th>4</th>\n",
              "      <td>2014-05-01</td>\n",
              "      <td>39711</td>\n",
              "    </tr>\n",
              "  </tbody>\n",
              "</table>\n",
              "</div>"
            ],
            "text/plain": [
              "        Month  Count of Events\n",
              "0  2014-01-01            32802\n",
              "1  2014-02-01            32020\n",
              "2  2014-03-01            35085\n",
              "3  2014-04-01            34500\n",
              "4  2014-05-01            39711"
            ]
          },
          "metadata": {
            "tags": []
          },
          "execution_count": 43
        }
      ]
    },
    {
      "cell_type": "code",
      "metadata": {
        "id": "OWGb_06Z_pfG",
        "colab_type": "code",
        "colab": {
          "base_uri": "https://localhost:8080/",
          "height": 197
        },
        "outputId": "e2b089e6-6176-439d-9dd3-40303ddcf193"
      },
      "source": [
        "nemsis_reg_icd_df.head()"
      ],
      "execution_count": 44,
      "outputs": [
        {
          "output_type": "execute_result",
          "data": {
            "text/html": [
              "<div>\n",
              "<style scoped>\n",
              "    .dataframe tbody tr th:only-of-type {\n",
              "        vertical-align: middle;\n",
              "    }\n",
              "\n",
              "    .dataframe tbody tr th {\n",
              "        vertical-align: top;\n",
              "    }\n",
              "\n",
              "    .dataframe thead th {\n",
              "        text-align: right;\n",
              "    }\n",
              "</style>\n",
              "<table border=\"1\" class=\"dataframe\">\n",
              "  <thead>\n",
              "    <tr style=\"text-align: right;\">\n",
              "      <th></th>\n",
              "      <th>Month</th>\n",
              "      <th>Region</th>\n",
              "      <th>Count of Events</th>\n",
              "    </tr>\n",
              "  </thead>\n",
              "  <tbody>\n",
              "    <tr>\n",
              "      <th>0</th>\n",
              "      <td>2014-01-01</td>\n",
              "      <td>Midwest</td>\n",
              "      <td>7593</td>\n",
              "    </tr>\n",
              "    <tr>\n",
              "      <th>1</th>\n",
              "      <td>2014-01-01</td>\n",
              "      <td>Northeast</td>\n",
              "      <td>6973</td>\n",
              "    </tr>\n",
              "    <tr>\n",
              "      <th>2</th>\n",
              "      <td>2014-01-01</td>\n",
              "      <td>South</td>\n",
              "      <td>10868</td>\n",
              "    </tr>\n",
              "    <tr>\n",
              "      <th>3</th>\n",
              "      <td>2014-01-01</td>\n",
              "      <td>Territories</td>\n",
              "      <td>9</td>\n",
              "    </tr>\n",
              "    <tr>\n",
              "      <th>4</th>\n",
              "      <td>2014-01-01</td>\n",
              "      <td>West</td>\n",
              "      <td>7359</td>\n",
              "    </tr>\n",
              "  </tbody>\n",
              "</table>\n",
              "</div>"
            ],
            "text/plain": [
              "        Month       Region  Count of Events\n",
              "0  2014-01-01      Midwest             7593\n",
              "1  2014-01-01    Northeast             6973\n",
              "2  2014-01-01        South            10868\n",
              "3  2014-01-01  Territories                9\n",
              "4  2014-01-01         West             7359"
            ]
          },
          "metadata": {
            "tags": []
          },
          "execution_count": 44
        }
      ]
    },
    {
      "cell_type": "code",
      "metadata": {
        "id": "Kf9U0aquWJgZ",
        "colab_type": "code",
        "colab": {}
      },
      "source": [
        "nemsis_nat_med_df[[\"Month\"]] = nemsis_nat_med_df[[\"Month\"]].apply(pd.to_datetime)\n",
        "nemsis_reg_med_df[[\"Month\"]] = nemsis_reg_med_df[[\"Month\"]].apply(pd.to_datetime)\n",
        "nemsis_nat_icd_df[[\"Month\"]] = nemsis_nat_icd_df[[\"Month\"]].apply(pd.to_datetime)\n",
        "nemsis_reg_icd_df[[\"Month\"]] = nemsis_reg_icd_df[[\"Month\"]].apply(pd.to_datetime)"
      ],
      "execution_count": 0,
      "outputs": []
    },
    {
      "cell_type": "code",
      "metadata": {
        "id": "BBNFeDaMWhTj",
        "colab_type": "code",
        "colab": {}
      },
      "source": [
        "nemsis_nat_med_df = nemsis_nat_med_df.merge(nemsis_nat_totals_df, how='outer', on='Month')\n",
        "nemsis_reg_med_df = nemsis_reg_med_df.merge(nemsis_reg_totals_df, how='outer', on=['Month', 'Region'])\n",
        "nemsis_nat_icd_df = nemsis_nat_icd_df.merge(nemsis_nat_totals_df, how='outer', on='Month')\n",
        "nemsis_reg_icd_df = nemsis_reg_icd_df.merge(nemsis_reg_totals_df, how='outer', on=['Month', 'Region'])"
      ],
      "execution_count": 0,
      "outputs": []
    },
    {
      "cell_type": "code",
      "metadata": {
        "id": "Xb5YPnnlXDqN",
        "colab_type": "code",
        "colab": {}
      },
      "source": [
        "for df in [nemsis_nat_med_df, nemsis_reg_med_df, nemsis_nat_icd_df, nemsis_reg_icd_df]:\n",
        "  df[[\"Count of Events\"]] = df[[\"Count of Events\"]].apply(pd.to_numeric)\n",
        "  df[[\"Total Events\"]] = df[[\"Total Events\"]].apply(pd.to_numeric)\n",
        "  df['Ratio'] = df['Count of Events'] / df['Total Events']\n",
        "  # Just for ease of plotting\n",
        "  df['Ratio_1m'] = df['Count of Events'] / df['Total Events'] * 1000000\n",
        "  df['Ratio_100k'] = df['Count of Events'] / df['Total Events'] * 100000"
      ],
      "execution_count": 0,
      "outputs": []
    },
    {
      "cell_type": "code",
      "metadata": {
        "id": "teHi9LpZZAPa",
        "colab_type": "code",
        "outputId": "960be86b-d810-414e-9b7b-4ee4e6f4cfb0",
        "colab": {
          "base_uri": "https://localhost:8080/",
          "height": 197
        }
      },
      "source": [
        "nemsis_nat_icd_df.tail()"
      ],
      "execution_count": 48,
      "outputs": [
        {
          "output_type": "execute_result",
          "data": {
            "text/html": [
              "<div>\n",
              "<style scoped>\n",
              "    .dataframe tbody tr th:only-of-type {\n",
              "        vertical-align: middle;\n",
              "    }\n",
              "\n",
              "    .dataframe tbody tr th {\n",
              "        vertical-align: top;\n",
              "    }\n",
              "\n",
              "    .dataframe thead th {\n",
              "        text-align: right;\n",
              "    }\n",
              "</style>\n",
              "<table border=\"1\" class=\"dataframe\">\n",
              "  <thead>\n",
              "    <tr style=\"text-align: right;\">\n",
              "      <th></th>\n",
              "      <th>Month</th>\n",
              "      <th>Count of Events</th>\n",
              "      <th>Total Events</th>\n",
              "      <th>Ratio</th>\n",
              "      <th>Ratio_1m</th>\n",
              "      <th>Ratio_100k</th>\n",
              "    </tr>\n",
              "  </thead>\n",
              "  <tbody>\n",
              "    <tr>\n",
              "      <th>66</th>\n",
              "      <td>2019-07-01</td>\n",
              "      <td>7760</td>\n",
              "      <td>2609045</td>\n",
              "      <td>0.002974</td>\n",
              "      <td>2974.268363</td>\n",
              "      <td>297.426836</td>\n",
              "    </tr>\n",
              "    <tr>\n",
              "      <th>67</th>\n",
              "      <td>2019-08-01</td>\n",
              "      <td>7742</td>\n",
              "      <td>2284163</td>\n",
              "      <td>0.003389</td>\n",
              "      <td>3389.425361</td>\n",
              "      <td>338.942536</td>\n",
              "    </tr>\n",
              "    <tr>\n",
              "      <th>68</th>\n",
              "      <td>2019-09-01</td>\n",
              "      <td>7061</td>\n",
              "      <td>2063875</td>\n",
              "      <td>0.003421</td>\n",
              "      <td>3421.234329</td>\n",
              "      <td>342.123433</td>\n",
              "    </tr>\n",
              "    <tr>\n",
              "      <th>69</th>\n",
              "      <td>2019-10-01</td>\n",
              "      <td>6066</td>\n",
              "      <td>1864195</td>\n",
              "      <td>0.003254</td>\n",
              "      <td>3253.951437</td>\n",
              "      <td>325.395144</td>\n",
              "    </tr>\n",
              "    <tr>\n",
              "      <th>70</th>\n",
              "      <td>2019-11-01</td>\n",
              "      <td>6</td>\n",
              "      <td>278207</td>\n",
              "      <td>0.000022</td>\n",
              "      <td>21.566675</td>\n",
              "      <td>2.156668</td>\n",
              "    </tr>\n",
              "  </tbody>\n",
              "</table>\n",
              "</div>"
            ],
            "text/plain": [
              "        Month  Count of Events  Total Events     Ratio     Ratio_1m  Ratio_100k\n",
              "66 2019-07-01             7760       2609045  0.002974  2974.268363  297.426836\n",
              "67 2019-08-01             7742       2284163  0.003389  3389.425361  338.942536\n",
              "68 2019-09-01             7061       2063875  0.003421  3421.234329  342.123433\n",
              "69 2019-10-01             6066       1864195  0.003254  3253.951437  325.395144\n",
              "70 2019-11-01                6        278207  0.000022    21.566675    2.156668"
            ]
          },
          "metadata": {
            "tags": []
          },
          "execution_count": 48
        }
      ]
    },
    {
      "cell_type": "code",
      "metadata": {
        "id": "BkPKYqSWSFok",
        "colab_type": "code",
        "colab": {}
      },
      "source": [
        "# Drop counts from last month of data, which are incomplete\n",
        "nemsis_nat_med_df = nemsis_nat_med_df[nemsis_nat_med_df['Month'] < '2019-11-01']\n",
        "nemsis_nat_icd_df = nemsis_nat_icd_df[nemsis_nat_icd_df['Month'] < '2019-11-01']\n",
        "nemsis_reg_med_df = nemsis_reg_med_df[nemsis_reg_med_df['Month'] < '2019-11-01']\n",
        "nemsis_reg_icd_df = nemsis_reg_icd_df[nemsis_reg_icd_df['Month'] < '2019-11-01']"
      ],
      "execution_count": 0,
      "outputs": []
    },
    {
      "cell_type": "code",
      "metadata": {
        "id": "ThOoatGeRTAA",
        "colab_type": "code",
        "colab": {}
      },
      "source": [
        "nemsis_reg_med_df = nemsis_reg_med_df.dropna(subset=['Count of Events'])\n",
        "nemsis_reg_icd_df = nemsis_reg_icd_df.dropna(subset=['Count of Events'])"
      ],
      "execution_count": 0,
      "outputs": []
    },
    {
      "cell_type": "code",
      "metadata": {
        "id": "Pdiewjgh_50l",
        "colab_type": "code",
        "colab": {
          "base_uri": "https://localhost:8080/",
          "height": 197
        },
        "outputId": "c1ff9443-9c86-45fd-c68c-013452a3adfa"
      },
      "source": [
        "nemsis_nat_icd_df.tail()"
      ],
      "execution_count": 51,
      "outputs": [
        {
          "output_type": "execute_result",
          "data": {
            "text/html": [
              "<div>\n",
              "<style scoped>\n",
              "    .dataframe tbody tr th:only-of-type {\n",
              "        vertical-align: middle;\n",
              "    }\n",
              "\n",
              "    .dataframe tbody tr th {\n",
              "        vertical-align: top;\n",
              "    }\n",
              "\n",
              "    .dataframe thead th {\n",
              "        text-align: right;\n",
              "    }\n",
              "</style>\n",
              "<table border=\"1\" class=\"dataframe\">\n",
              "  <thead>\n",
              "    <tr style=\"text-align: right;\">\n",
              "      <th></th>\n",
              "      <th>Month</th>\n",
              "      <th>Count of Events</th>\n",
              "      <th>Total Events</th>\n",
              "      <th>Ratio</th>\n",
              "      <th>Ratio_1m</th>\n",
              "      <th>Ratio_100k</th>\n",
              "    </tr>\n",
              "  </thead>\n",
              "  <tbody>\n",
              "    <tr>\n",
              "      <th>65</th>\n",
              "      <td>2019-06-01</td>\n",
              "      <td>7695</td>\n",
              "      <td>2260668</td>\n",
              "      <td>0.003404</td>\n",
              "      <td>3403.861160</td>\n",
              "      <td>340.386116</td>\n",
              "    </tr>\n",
              "    <tr>\n",
              "      <th>66</th>\n",
              "      <td>2019-07-01</td>\n",
              "      <td>7760</td>\n",
              "      <td>2609045</td>\n",
              "      <td>0.002974</td>\n",
              "      <td>2974.268363</td>\n",
              "      <td>297.426836</td>\n",
              "    </tr>\n",
              "    <tr>\n",
              "      <th>67</th>\n",
              "      <td>2019-08-01</td>\n",
              "      <td>7742</td>\n",
              "      <td>2284163</td>\n",
              "      <td>0.003389</td>\n",
              "      <td>3389.425361</td>\n",
              "      <td>338.942536</td>\n",
              "    </tr>\n",
              "    <tr>\n",
              "      <th>68</th>\n",
              "      <td>2019-09-01</td>\n",
              "      <td>7061</td>\n",
              "      <td>2063875</td>\n",
              "      <td>0.003421</td>\n",
              "      <td>3421.234329</td>\n",
              "      <td>342.123433</td>\n",
              "    </tr>\n",
              "    <tr>\n",
              "      <th>69</th>\n",
              "      <td>2019-10-01</td>\n",
              "      <td>6066</td>\n",
              "      <td>1864195</td>\n",
              "      <td>0.003254</td>\n",
              "      <td>3253.951437</td>\n",
              "      <td>325.395144</td>\n",
              "    </tr>\n",
              "  </tbody>\n",
              "</table>\n",
              "</div>"
            ],
            "text/plain": [
              "        Month  Count of Events  Total Events     Ratio     Ratio_1m  Ratio_100k\n",
              "65 2019-06-01             7695       2260668  0.003404  3403.861160  340.386116\n",
              "66 2019-07-01             7760       2609045  0.002974  2974.268363  297.426836\n",
              "67 2019-08-01             7742       2284163  0.003389  3389.425361  338.942536\n",
              "68 2019-09-01             7061       2063875  0.003421  3421.234329  342.123433\n",
              "69 2019-10-01             6066       1864195  0.003254  3253.951437  325.395144"
            ]
          },
          "metadata": {
            "tags": []
          },
          "execution_count": 51
        }
      ]
    },
    {
      "cell_type": "code",
      "metadata": {
        "id": "l3Gpoid3_8VS",
        "colab_type": "code",
        "colab": {
          "base_uri": "https://localhost:8080/",
          "height": 197
        },
        "outputId": "b9a7e999-9dac-4730-855f-87ba35496a0c"
      },
      "source": [
        "nemsis_reg_icd_df.tail()"
      ],
      "execution_count": 52,
      "outputs": [
        {
          "output_type": "execute_result",
          "data": {
            "text/html": [
              "<div>\n",
              "<style scoped>\n",
              "    .dataframe tbody tr th:only-of-type {\n",
              "        vertical-align: middle;\n",
              "    }\n",
              "\n",
              "    .dataframe tbody tr th {\n",
              "        vertical-align: top;\n",
              "    }\n",
              "\n",
              "    .dataframe thead th {\n",
              "        text-align: right;\n",
              "    }\n",
              "</style>\n",
              "<table border=\"1\" class=\"dataframe\">\n",
              "  <thead>\n",
              "    <tr style=\"text-align: right;\">\n",
              "      <th></th>\n",
              "      <th>Month</th>\n",
              "      <th>Region</th>\n",
              "      <th>Count of Events</th>\n",
              "      <th>Total Events</th>\n",
              "      <th>Ratio</th>\n",
              "      <th>Ratio_1m</th>\n",
              "      <th>Ratio_100k</th>\n",
              "    </tr>\n",
              "  </thead>\n",
              "  <tbody>\n",
              "    <tr>\n",
              "      <th>353</th>\n",
              "      <td>2019-10-01</td>\n",
              "      <td>Midwest</td>\n",
              "      <td>995.0</td>\n",
              "      <td>294142.0</td>\n",
              "      <td>0.003383</td>\n",
              "      <td>3382.719911</td>\n",
              "      <td>338.271991</td>\n",
              "    </tr>\n",
              "    <tr>\n",
              "      <th>354</th>\n",
              "      <td>2019-10-01</td>\n",
              "      <td>Northeast</td>\n",
              "      <td>1173.0</td>\n",
              "      <td>320772.0</td>\n",
              "      <td>0.003657</td>\n",
              "      <td>3656.802963</td>\n",
              "      <td>365.680296</td>\n",
              "    </tr>\n",
              "    <tr>\n",
              "      <th>355</th>\n",
              "      <td>2019-10-01</td>\n",
              "      <td>Not Recorded</td>\n",
              "      <td>869.0</td>\n",
              "      <td>34429.0</td>\n",
              "      <td>0.025240</td>\n",
              "      <td>25240.349705</td>\n",
              "      <td>2524.034971</td>\n",
              "    </tr>\n",
              "    <tr>\n",
              "      <th>356</th>\n",
              "      <td>2019-10-01</td>\n",
              "      <td>South</td>\n",
              "      <td>2526.0</td>\n",
              "      <td>831971.0</td>\n",
              "      <td>0.003036</td>\n",
              "      <td>3036.163520</td>\n",
              "      <td>303.616352</td>\n",
              "    </tr>\n",
              "    <tr>\n",
              "      <th>357</th>\n",
              "      <td>2019-10-01</td>\n",
              "      <td>West</td>\n",
              "      <td>503.0</td>\n",
              "      <td>380799.0</td>\n",
              "      <td>0.001321</td>\n",
              "      <td>1320.906830</td>\n",
              "      <td>132.090683</td>\n",
              "    </tr>\n",
              "  </tbody>\n",
              "</table>\n",
              "</div>"
            ],
            "text/plain": [
              "         Month        Region  ...      Ratio_1m   Ratio_100k\n",
              "353 2019-10-01       Midwest  ...   3382.719911   338.271991\n",
              "354 2019-10-01     Northeast  ...   3656.802963   365.680296\n",
              "355 2019-10-01  Not Recorded  ...  25240.349705  2524.034971\n",
              "356 2019-10-01         South  ...   3036.163520   303.616352\n",
              "357 2019-10-01          West  ...   1320.906830   132.090683\n",
              "\n",
              "[5 rows x 7 columns]"
            ]
          },
          "metadata": {
            "tags": []
          },
          "execution_count": 52
        }
      ]
    },
    {
      "cell_type": "code",
      "metadata": {
        "id": "DgX5jB8PrMlq",
        "colab_type": "code",
        "colab": {}
      },
      "source": [
        "nemsis_nat_med_df.to_csv('nemsis_national_med_with_ratio.csv')\n",
        "nemsis_reg_med_df.to_csv('nemsis_regional_med_with_ratio.csv')\n",
        "nemsis_nat_icd_df.to_csv('nemsis_national_icd_with_ratio.csv')\n",
        "nemsis_reg_icd_df.to_csv('nemsis_regional_icd_with_ratio.csv')"
      ],
      "execution_count": 0,
      "outputs": []
    },
    {
      "cell_type": "markdown",
      "metadata": {
        "id": "9T3q5pemaZbk",
        "colab_type": "text"
      },
      "source": [
        "# Data cleaning: CDC data"
      ]
    },
    {
      "cell_type": "code",
      "metadata": {
        "id": "llimPlDqaafz",
        "colab_type": "code",
        "colab": {}
      },
      "source": [
        "cdc_df = pd.read_csv('gdrive/My Drive/cdc_opioids_region_clean.csv')"
      ],
      "execution_count": 0,
      "outputs": []
    },
    {
      "cell_type": "code",
      "metadata": {
        "id": "KWwXMxTFhFEr",
        "colab_type": "code",
        "outputId": "289901f0-1a1a-445e-fa71-521c616a1eaf",
        "colab": {
          "base_uri": "https://localhost:8080/",
          "height": 197
        }
      },
      "source": [
        "cdc_df.head()"
      ],
      "execution_count": 54,
      "outputs": [
        {
          "output_type": "execute_result",
          "data": {
            "text/html": [
              "<div>\n",
              "<style scoped>\n",
              "    .dataframe tbody tr th:only-of-type {\n",
              "        vertical-align: middle;\n",
              "    }\n",
              "\n",
              "    .dataframe tbody tr th {\n",
              "        vertical-align: top;\n",
              "    }\n",
              "\n",
              "    .dataframe thead th {\n",
              "        text-align: right;\n",
              "    }\n",
              "</style>\n",
              "<table border=\"1\" class=\"dataframe\">\n",
              "  <thead>\n",
              "    <tr style=\"text-align: right;\">\n",
              "      <th></th>\n",
              "      <th>Census Region</th>\n",
              "      <th>Month</th>\n",
              "      <th>Month Code</th>\n",
              "      <th>Deaths</th>\n",
              "    </tr>\n",
              "  </thead>\n",
              "  <tbody>\n",
              "    <tr>\n",
              "      <th>0</th>\n",
              "      <td>Census Region 1: Northeast</td>\n",
              "      <td>Jan., 2014</td>\n",
              "      <td>2014/01</td>\n",
              "      <td>894</td>\n",
              "    </tr>\n",
              "    <tr>\n",
              "      <th>1</th>\n",
              "      <td>Census Region 1: Northeast</td>\n",
              "      <td>Feb., 2014</td>\n",
              "      <td>2014/02</td>\n",
              "      <td>793</td>\n",
              "    </tr>\n",
              "    <tr>\n",
              "      <th>2</th>\n",
              "      <td>Census Region 1: Northeast</td>\n",
              "      <td>Mar., 2014</td>\n",
              "      <td>2014/03</td>\n",
              "      <td>872</td>\n",
              "    </tr>\n",
              "    <tr>\n",
              "      <th>3</th>\n",
              "      <td>Census Region 1: Northeast</td>\n",
              "      <td>Apr., 2014</td>\n",
              "      <td>2014/04</td>\n",
              "      <td>751</td>\n",
              "    </tr>\n",
              "    <tr>\n",
              "      <th>4</th>\n",
              "      <td>Census Region 1: Northeast</td>\n",
              "      <td>May, 2014</td>\n",
              "      <td>2014/05</td>\n",
              "      <td>849</td>\n",
              "    </tr>\n",
              "  </tbody>\n",
              "</table>\n",
              "</div>"
            ],
            "text/plain": [
              "                Census Region       Month Month Code  Deaths\n",
              "0  Census Region 1: Northeast  Jan., 2014    2014/01     894\n",
              "1  Census Region 1: Northeast  Feb., 2014    2014/02     793\n",
              "2  Census Region 1: Northeast  Mar., 2014    2014/03     872\n",
              "3  Census Region 1: Northeast  Apr., 2014    2014/04     751\n",
              "4  Census Region 1: Northeast   May, 2014    2014/05     849"
            ]
          },
          "metadata": {
            "tags": []
          },
          "execution_count": 54
        }
      ]
    },
    {
      "cell_type": "code",
      "metadata": {
        "id": "VwzHsSxTjxTt",
        "colab_type": "code",
        "colab": {}
      },
      "source": [
        "cdc_df['Census Region'] = np.where(cdc_df['Census Region']!='United States', cdc_df['Census Region'].str[17:], cdc_df['Census Region'])"
      ],
      "execution_count": 0,
      "outputs": []
    },
    {
      "cell_type": "code",
      "metadata": {
        "id": "xwDsZ6cDkMD3",
        "colab_type": "code",
        "colab": {}
      },
      "source": [
        "cdc_df[[\"Month\"]] = cdc_df[[\"Month Code\"]].apply(pd.to_datetime)"
      ],
      "execution_count": 0,
      "outputs": []
    },
    {
      "cell_type": "code",
      "metadata": {
        "id": "eU3PhvpBkaE1",
        "colab_type": "code",
        "colab": {}
      },
      "source": [
        "cdc_df = cdc_df.drop('Month Code', axis=1)"
      ],
      "execution_count": 0,
      "outputs": []
    },
    {
      "cell_type": "code",
      "metadata": {
        "id": "LoeBsBrqApAN",
        "colab_type": "code",
        "colab": {
          "base_uri": "https://localhost:8080/",
          "height": 197
        },
        "outputId": "41c28e93-8645-4c2a-8483-bc3eee32aef4"
      },
      "source": [
        "cdc_df.head()"
      ],
      "execution_count": 58,
      "outputs": [
        {
          "output_type": "execute_result",
          "data": {
            "text/html": [
              "<div>\n",
              "<style scoped>\n",
              "    .dataframe tbody tr th:only-of-type {\n",
              "        vertical-align: middle;\n",
              "    }\n",
              "\n",
              "    .dataframe tbody tr th {\n",
              "        vertical-align: top;\n",
              "    }\n",
              "\n",
              "    .dataframe thead th {\n",
              "        text-align: right;\n",
              "    }\n",
              "</style>\n",
              "<table border=\"1\" class=\"dataframe\">\n",
              "  <thead>\n",
              "    <tr style=\"text-align: right;\">\n",
              "      <th></th>\n",
              "      <th>Census Region</th>\n",
              "      <th>Month</th>\n",
              "      <th>Deaths</th>\n",
              "    </tr>\n",
              "  </thead>\n",
              "  <tbody>\n",
              "    <tr>\n",
              "      <th>0</th>\n",
              "      <td>Northeast</td>\n",
              "      <td>2014-01-01</td>\n",
              "      <td>894</td>\n",
              "    </tr>\n",
              "    <tr>\n",
              "      <th>1</th>\n",
              "      <td>Northeast</td>\n",
              "      <td>2014-02-01</td>\n",
              "      <td>793</td>\n",
              "    </tr>\n",
              "    <tr>\n",
              "      <th>2</th>\n",
              "      <td>Northeast</td>\n",
              "      <td>2014-03-01</td>\n",
              "      <td>872</td>\n",
              "    </tr>\n",
              "    <tr>\n",
              "      <th>3</th>\n",
              "      <td>Northeast</td>\n",
              "      <td>2014-04-01</td>\n",
              "      <td>751</td>\n",
              "    </tr>\n",
              "    <tr>\n",
              "      <th>4</th>\n",
              "      <td>Northeast</td>\n",
              "      <td>2014-05-01</td>\n",
              "      <td>849</td>\n",
              "    </tr>\n",
              "  </tbody>\n",
              "</table>\n",
              "</div>"
            ],
            "text/plain": [
              "  Census Region      Month  Deaths\n",
              "0     Northeast 2014-01-01     894\n",
              "1     Northeast 2014-02-01     793\n",
              "2     Northeast 2014-03-01     872\n",
              "3     Northeast 2014-04-01     751\n",
              "4     Northeast 2014-05-01     849"
            ]
          },
          "metadata": {
            "tags": []
          },
          "execution_count": 58
        }
      ]
    },
    {
      "cell_type": "code",
      "metadata": {
        "id": "ELMB_qEkr2n3",
        "colab_type": "code",
        "colab": {}
      },
      "source": [
        "cdc_df.to_csv('cdc_opioid_region_clean.csv')"
      ],
      "execution_count": 0,
      "outputs": []
    },
    {
      "cell_type": "markdown",
      "metadata": {
        "id": "ZEgf_9NBCeNk",
        "colab_type": "text"
      },
      "source": [
        "# Data cleaning: CDC provisional"
      ]
    },
    {
      "cell_type": "code",
      "metadata": {
        "id": "xfQg1adHChUo",
        "colab_type": "code",
        "colab": {}
      },
      "source": [
        "cdc_prov_df = pd.read_csv('gdrive/My Drive/cdc-prov-by-region.csv', usecols=['REGION', 'Date', 'Deaths'],\n",
        "                          parse_dates=['Date'])"
      ],
      "execution_count": 0,
      "outputs": []
    },
    {
      "cell_type": "code",
      "metadata": {
        "id": "Uc6QWlh_Ass6",
        "colab_type": "code",
        "colab": {
          "base_uri": "https://localhost:8080/",
          "height": 197
        },
        "outputId": "76a90ea8-ff04-42a1-9362-8388d5b70f98"
      },
      "source": [
        "cdc_prov_df.head()"
      ],
      "execution_count": 60,
      "outputs": [
        {
          "output_type": "execute_result",
          "data": {
            "text/html": [
              "<div>\n",
              "<style scoped>\n",
              "    .dataframe tbody tr th:only-of-type {\n",
              "        vertical-align: middle;\n",
              "    }\n",
              "\n",
              "    .dataframe tbody tr th {\n",
              "        vertical-align: top;\n",
              "    }\n",
              "\n",
              "    .dataframe thead th {\n",
              "        text-align: right;\n",
              "    }\n",
              "</style>\n",
              "<table border=\"1\" class=\"dataframe\">\n",
              "  <thead>\n",
              "    <tr style=\"text-align: right;\">\n",
              "      <th></th>\n",
              "      <th>REGION</th>\n",
              "      <th>Date</th>\n",
              "      <th>Deaths</th>\n",
              "    </tr>\n",
              "  </thead>\n",
              "  <tbody>\n",
              "    <tr>\n",
              "      <th>0</th>\n",
              "      <td>United States</td>\n",
              "      <td>2017-01-01</td>\n",
              "      <td>6594</td>\n",
              "    </tr>\n",
              "    <tr>\n",
              "      <th>1</th>\n",
              "      <td>United States</td>\n",
              "      <td>2017-02-01</td>\n",
              "      <td>5916</td>\n",
              "    </tr>\n",
              "    <tr>\n",
              "      <th>2</th>\n",
              "      <td>United States</td>\n",
              "      <td>2017-03-01</td>\n",
              "      <td>6524</td>\n",
              "    </tr>\n",
              "    <tr>\n",
              "      <th>3</th>\n",
              "      <td>United States</td>\n",
              "      <td>2017-04-01</td>\n",
              "      <td>6196</td>\n",
              "    </tr>\n",
              "    <tr>\n",
              "      <th>4</th>\n",
              "      <td>United States</td>\n",
              "      <td>2017-05-01</td>\n",
              "      <td>6350</td>\n",
              "    </tr>\n",
              "  </tbody>\n",
              "</table>\n",
              "</div>"
            ],
            "text/plain": [
              "          REGION       Date  Deaths\n",
              "0  United States 2017-01-01    6594\n",
              "1  United States 2017-02-01    5916\n",
              "2  United States 2017-03-01    6524\n",
              "3  United States 2017-04-01    6196\n",
              "4  United States 2017-05-01    6350"
            ]
          },
          "metadata": {
            "tags": []
          },
          "execution_count": 60
        }
      ]
    },
    {
      "cell_type": "code",
      "metadata": {
        "id": "Y95zry6BIb5P",
        "colab_type": "code",
        "colab": {}
      },
      "source": [
        "cdc_prov_df = cdc_prov_df.rename(columns={\"Date\": \"Month\"})\n",
        "cdc_prov_df = cdc_prov_df.rename(columns={\"REGION\": \"Census Region\"})"
      ],
      "execution_count": 0,
      "outputs": []
    },
    {
      "cell_type": "code",
      "metadata": {
        "id": "wwtcMdMDLtEv",
        "colab_type": "code",
        "colab": {}
      },
      "source": [
        "# Remove the rows that overlap with our existing non-provisional data\n",
        "cdc_prov_df = cdc_prov_df[cdc_prov_df['Month'] >= '2018-01-01']"
      ],
      "execution_count": 0,
      "outputs": []
    },
    {
      "cell_type": "code",
      "metadata": {
        "id": "pHp2kbeMBZJV",
        "colab_type": "code",
        "colab": {
          "base_uri": "https://localhost:8080/",
          "height": 197
        },
        "outputId": "ad6c156b-faa5-48e3-a636-d6c5b87c4f2b"
      },
      "source": [
        "cdc_prov_df.head()"
      ],
      "execution_count": 63,
      "outputs": [
        {
          "output_type": "execute_result",
          "data": {
            "text/html": [
              "<div>\n",
              "<style scoped>\n",
              "    .dataframe tbody tr th:only-of-type {\n",
              "        vertical-align: middle;\n",
              "    }\n",
              "\n",
              "    .dataframe tbody tr th {\n",
              "        vertical-align: top;\n",
              "    }\n",
              "\n",
              "    .dataframe thead th {\n",
              "        text-align: right;\n",
              "    }\n",
              "</style>\n",
              "<table border=\"1\" class=\"dataframe\">\n",
              "  <thead>\n",
              "    <tr style=\"text-align: right;\">\n",
              "      <th></th>\n",
              "      <th>Census Region</th>\n",
              "      <th>Month</th>\n",
              "      <th>Deaths</th>\n",
              "    </tr>\n",
              "  </thead>\n",
              "  <tbody>\n",
              "    <tr>\n",
              "      <th>12</th>\n",
              "      <td>United States</td>\n",
              "      <td>2018-01-01</td>\n",
              "      <td>6020</td>\n",
              "    </tr>\n",
              "    <tr>\n",
              "      <th>13</th>\n",
              "      <td>United States</td>\n",
              "      <td>2018-02-01</td>\n",
              "      <td>5542</td>\n",
              "    </tr>\n",
              "    <tr>\n",
              "      <th>14</th>\n",
              "      <td>United States</td>\n",
              "      <td>2018-03-01</td>\n",
              "      <td>6152</td>\n",
              "    </tr>\n",
              "    <tr>\n",
              "      <th>15</th>\n",
              "      <td>United States</td>\n",
              "      <td>2018-04-01</td>\n",
              "      <td>5882</td>\n",
              "    </tr>\n",
              "    <tr>\n",
              "      <th>16</th>\n",
              "      <td>United States</td>\n",
              "      <td>2018-05-01</td>\n",
              "      <td>6106</td>\n",
              "    </tr>\n",
              "  </tbody>\n",
              "</table>\n",
              "</div>"
            ],
            "text/plain": [
              "    Census Region      Month  Deaths\n",
              "12  United States 2018-01-01    6020\n",
              "13  United States 2018-02-01    5542\n",
              "14  United States 2018-03-01    6152\n",
              "15  United States 2018-04-01    5882\n",
              "16  United States 2018-05-01    6106"
            ]
          },
          "metadata": {
            "tags": []
          },
          "execution_count": 63
        }
      ]
    },
    {
      "cell_type": "code",
      "metadata": {
        "id": "isjHMsrZBr7o",
        "colab_type": "code",
        "colab": {}
      },
      "source": [
        "cdc_df.to_csv('cdc_prov_region_clean.csv')"
      ],
      "execution_count": 0,
      "outputs": []
    },
    {
      "cell_type": "code",
      "metadata": {
        "id": "kBxvDjUIIgwI",
        "colab_type": "code",
        "colab": {}
      },
      "source": [
        "cdc_df = cdc_df.append(cdc_prov_df)"
      ],
      "execution_count": 0,
      "outputs": []
    },
    {
      "cell_type": "code",
      "metadata": {
        "id": "3onuxNoPBkVT",
        "colab_type": "code",
        "colab": {}
      },
      "source": [
        "cdc_df.to_csv('cdc_combined_region_clean.csv')"
      ],
      "execution_count": 0,
      "outputs": []
    }
  ]
}